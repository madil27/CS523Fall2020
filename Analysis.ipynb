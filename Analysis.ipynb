{
  "nbformat": 4,
  "nbformat_minor": 0,
  "metadata": {
    "colab": {
      "name": "Faust_Analysis.ipynb",
      "provenance": [],
      "collapsed_sections": [],
      "toc_visible": true
    },
    "kernelspec": {
      "name": "python3",
      "display_name": "Python 3"
    }
  },
  "cells": [
    {
      "cell_type": "code",
      "metadata": {
        "id": "zZdcj2e0OpY8"
      },
      "source": [
        "import pandas as pd\n",
        "import seaborn as sns\n",
        "from matplotlib import pyplot"
      ],
      "execution_count": 57,
      "outputs": []
    },
    {
      "cell_type": "markdown",
      "metadata": {
        "id": "YCTBc8N3E9zg"
      },
      "source": [
        "# Reading Dataset"
      ]
    },
    {
      "cell_type": "code",
      "metadata": {
        "id": "vPy_W_JgQh99",
        "outputId": "013bd427-4052-415d-c8da-d4fadc6bbf24",
        "colab": {
          "base_uri": "https://localhost:8080/",
          "height": 204
        }
      },
      "source": [
        "df = pd.read_csv(\"data.csv\")\n",
        "df.head()"
      ],
      "execution_count": 75,
      "outputs": [
        {
          "output_type": "execute_result",
          "data": {
            "text/html": [
              "<div>\n",
              "<style scoped>\n",
              "    .dataframe tbody tr th:only-of-type {\n",
              "        vertical-align: middle;\n",
              "    }\n",
              "\n",
              "    .dataframe tbody tr th {\n",
              "        vertical-align: top;\n",
              "    }\n",
              "\n",
              "    .dataframe thead th {\n",
              "        text-align: right;\n",
              "    }\n",
              "</style>\n",
              "<table border=\"1\" class=\"dataframe\">\n",
              "  <thead>\n",
              "    <tr style=\"text-align: right;\">\n",
              "      <th></th>\n",
              "      <th>ID</th>\n",
              "      <th>NUMBER</th>\n",
              "      <th>REDUNDANT_IO</th>\n",
              "      <th>LOG_GC</th>\n",
              "      <th>APPROX</th>\n",
              "      <th>INDUCTION</th>\n",
              "      <th>IBURST</th>\n",
              "      <th>DPRESERVE_FD</th>\n",
              "      <th>DPRESERVE_SD</th>\n",
              "      <th>NODEMERGE</th>\n",
              "    </tr>\n",
              "  </thead>\n",
              "  <tbody>\n",
              "    <tr>\n",
              "      <th>0</th>\n",
              "      <td>19068</td>\n",
              "      <td>46</td>\n",
              "      <td>0</td>\n",
              "      <td>0</td>\n",
              "      <td>0</td>\n",
              "      <td>0</td>\n",
              "      <td>0</td>\n",
              "      <td>0</td>\n",
              "      <td>0</td>\n",
              "      <td>0</td>\n",
              "    </tr>\n",
              "    <tr>\n",
              "      <th>1</th>\n",
              "      <td>1</td>\n",
              "      <td>2</td>\n",
              "      <td>0</td>\n",
              "      <td>0</td>\n",
              "      <td>0</td>\n",
              "      <td>0</td>\n",
              "      <td>0</td>\n",
              "      <td>2</td>\n",
              "      <td>2</td>\n",
              "      <td>0</td>\n",
              "    </tr>\n",
              "    <tr>\n",
              "      <th>2</th>\n",
              "      <td>19069</td>\n",
              "      <td>46</td>\n",
              "      <td>0</td>\n",
              "      <td>0</td>\n",
              "      <td>0</td>\n",
              "      <td>0</td>\n",
              "      <td>0</td>\n",
              "      <td>0</td>\n",
              "      <td>0</td>\n",
              "      <td>0</td>\n",
              "    </tr>\n",
              "    <tr>\n",
              "      <th>3</th>\n",
              "      <td>5</td>\n",
              "      <td>2</td>\n",
              "      <td>0</td>\n",
              "      <td>0</td>\n",
              "      <td>0</td>\n",
              "      <td>0</td>\n",
              "      <td>0</td>\n",
              "      <td>2</td>\n",
              "      <td>2</td>\n",
              "      <td>0</td>\n",
              "    </tr>\n",
              "    <tr>\n",
              "      <th>4</th>\n",
              "      <td>19070</td>\n",
              "      <td>47</td>\n",
              "      <td>0</td>\n",
              "      <td>0</td>\n",
              "      <td>0</td>\n",
              "      <td>0</td>\n",
              "      <td>0</td>\n",
              "      <td>0</td>\n",
              "      <td>0</td>\n",
              "      <td>0</td>\n",
              "    </tr>\n",
              "  </tbody>\n",
              "</table>\n",
              "</div>"
            ],
            "text/plain": [
              "      ID  NUMBER  REDUNDANT_IO  ...  DPRESERVE_FD  DPRESERVE_SD  NODEMERGE\n",
              "0  19068      46             0  ...             0             0          0\n",
              "1      1       2             0  ...             2             2          0\n",
              "2  19069      46             0  ...             0             0          0\n",
              "3      5       2             0  ...             2             2          0\n",
              "4  19070      47             0  ...             0             0          0\n",
              "\n",
              "[5 rows x 10 columns]"
            ]
          },
          "metadata": {
            "tags": []
          },
          "execution_count": 75
        }
      ]
    },
    {
      "cell_type": "markdown",
      "metadata": {
        "id": "n-QEdlj1FA7G"
      },
      "source": [
        "# **_RQ1 :  What are the log reduction numbers across various reduction techniques?_**"
      ]
    },
    {
      "cell_type": "code",
      "metadata": {
        "id": "38U-NRrKPxFa",
        "outputId": "3569ac0e-6e52-47ad-f493-cf3d5d5637f6",
        "colab": {
          "base_uri": "https://localhost:8080/"
        }
      },
      "source": [
        "tn = df.columns[2:]\n",
        "drop_count = []\n",
        "for tech in tn:\n",
        "  print(tech + \" \" + str(df[df[tech] == 2].shape[0]))\n",
        "  drop_count.append(df[df[tech] == 2].shape[0])\n",
        "  "
      ],
      "execution_count": 76,
      "outputs": [
        {
          "output_type": "stream",
          "text": [
            "REDUNDANT_IO 48178\n",
            "LOG_GC 6594\n",
            "APPROX 172907\n",
            "INDUCTION 5157\n",
            "IBURST 113362\n",
            "DPRESERVE_FD 220989\n",
            "DPRESERVE_SD 224390\n",
            "NODEMERGE 12445\n"
          ],
          "name": "stdout"
        }
      ]
    },
    {
      "cell_type": "code",
      "metadata": {
        "id": "pz1YycpnQCdc",
        "outputId": "cf5bf64a-114e-4e56-cbaa-e1a0249a33ab",
        "colab": {
          "base_uri": "https://localhost:8080/",
          "height": 684
        }
      },
      "source": [
        "data_bar = {}\n",
        "data_bar[\"Techniques\"] = tn\n",
        "data_bar[\"Entries_Dropped\"] = drop_count\n",
        "\n",
        "# sns.set_style(\"grid\")\n",
        "sns.set(rc={'figure.figsize':(12,11)})\n",
        "ax = sns.barplot(x=data_bar[\"Techniques\"], y=data_bar[\"Entries_Dropped\"], color=\"#003f5c\")\n",
        "ax.set_ylabel(\"Drop Count\")\n",
        "ax.set_xlabel(\"Techniques\")"
      ],
      "execution_count": 129,
      "outputs": [
        {
          "output_type": "execute_result",
          "data": {
            "text/plain": [
              "Text(0.5, 0, 'Techniques')"
            ]
          },
          "metadata": {
            "tags": []
          },
          "execution_count": 129
        },
        {
          "output_type": "display_data",
          "data": {
            "image/png": "[encoded data removed]",
            "text/plain": [
              "<Figure size 864x792 with 1 Axes>"
            ]
          },
          "metadata": {
            "tags": []
          }
        }
      ]
    },
    {
      "cell_type": "markdown",
      "metadata": {
        "id": "RAnKJ_U_FP7t"
      },
      "source": [
        "# _**RQ2 :  What is the overlap between the various reduction techniques? How independent is one technique of the rest?**_"
      ]
    },
    {
      "cell_type": "code",
      "metadata": {
        "id": "tIWRq3kdsB62",
        "outputId": "e0b98b5b-40c2-484e-d1be-c635c3390097",
        "colab": {
          "base_uri": "https://localhost:8080/"
        }
      },
      "source": [
        "def print_matrix(matrix):\n",
        "  l = [len(max(i, key=len)) for i in zip(*matrix)]\n",
        "  for item in matrix:\n",
        "      for idx in range(len(l)):\n",
        "          print(item[idx].ljust(l[idx]), end='   ')\n",
        "      print()\n",
        "\n",
        "# Events filtered by both Technique A (row) and by Technique B (colm) divided by events filtered by either A or B i.e (A ∩ B) divided by (A ∪ B)\n",
        "overlapp_matrix = []\n",
        "overlapp_matrix.append(list(tn))\n",
        "overlapp_matrix[0].insert(0, \"Techniques\")\n",
        "for t1 in tn:\n",
        "  temp = []\n",
        "  temp.append(t1)\n",
        "  for t2 in tn:\n",
        "    inter_count = 0\n",
        "    union_count = 0\n",
        "    for i in range(len(df)):\n",
        "      if( (df.loc[i,t1] == 2) and (df.loc[i,t2] == 2)):\n",
        "        inter_count += 1\n",
        "        union_count += 1\n",
        "      elif (df.loc[i,t1] == 2 or df.loc[i,t2] == 2):\n",
        "        union_count += 1\n",
        "    overlapp = round((inter_count/union_count) * 100.0, 2)\n",
        "    temp.append(str(overlapp))\n",
        "  overlapp_matrix.append(temp)\n",
        "\n",
        "print(\"---- Overlap Matrix ----\")\n",
        "print(\"Events filtered by both Technique A (row) and by Technique B (colm) divided by events filtered by either A or B i.e (A ∩ B) divided by (A ∪ B)\\n\")\n",
        "print_matrix(overlapp_matrix)"
      ],
      "execution_count": 124,
      "outputs": [
        {
          "output_type": "stream",
          "text": [
            "---- Overlap Matrix ----\n",
            "Events filtered by both Technique A (row) and by Technique B (colm) divided by events filtered by either A or B i.e (A ∩ B) divided by (A ∪ B)\n",
            "\n",
            "Techniques     REDUNDANT_IO   LOG_GC   APPROX   INDUCTION   IBURST   DPRESERVE_FD   DPRESERVE_SD   NODEMERGE   \n",
            "REDUNDANT_IO   100.0          2.86     26.88    0.0         42.5     21.8           21.47          8.1         \n",
            "LOG_GC         2.86           100.0    0.97     0.0         1.43     2.96           2.92           0.0         \n",
            "APPROX         26.88          0.97     100.0    0.36        45.18    75.8           74.66          4.16        \n",
            "INDUCTION      0.0            0.0      0.36     100.0       0.01     1.81           2.21           4.34        \n",
            "IBURST         42.5           1.43     45.18    0.01        100.0    51.01          50.26          5.8         \n",
            "DPRESERVE_FD   21.8           2.96     75.8     1.81        51.01    100.0          98.48          5.32        \n",
            "DPRESERVE_SD   21.47          2.92     74.66    2.21        50.26    98.48          100.0          5.47        \n",
            "NODEMERGE      8.1            0.0      4.16     4.34        5.8      5.32           5.47           100.0       \n"
          ],
          "name": "stdout"
        }
      ]
    },
    {
      "cell_type": "code",
      "metadata": {
        "id": "Tm_cwocR3gOk",
        "outputId": "fdc5942d-7e02-485d-85f2-202f9fd0c10f",
        "colab": {
          "base_uri": "https://localhost:8080/"
        }
      },
      "source": [
        "# Events filtered by Technique A (row) that are not filtered by Technique B (colm) divided by events filtered by either A or B i.e (A - B) divided by (A ∪ B)\n",
        "\n",
        "unique_mat = []\n",
        "unique_mat.append(list(tn))\n",
        "unique_mat[0].insert(0, \"Techniques\")\n",
        "for t1 in tn:\n",
        "  temp = []\n",
        "  temp.append(t1)\n",
        "  for t2 in tn:\n",
        "    inter_count = 0\n",
        "    union_count = 0\n",
        "    for i in range(len(df)):\n",
        "      if( (df.loc[i,t1] == 2) and not (df.loc[i,t2] == 2)):\n",
        "        inter_count += 1\n",
        "        union_count += 1\n",
        "      elif (df.loc[i,t1] == 2 or df.loc[i,t2] == 2):\n",
        "        union_count += 1\n",
        "    unique = round((inter_count/union_count) * 100.0, 2)\n",
        "    temp.append(str(unique))\n",
        "  unique_mat.append(temp)\n",
        "\n",
        "print(\"---- Unique Event Compression Matrix ----\")\n",
        "print(\"Events filtered by Technique A (row) that are not filtered by Technique B (colm) divided by events filtered by either A or B i.e (A - B) divided by (A ∪ B)\\n\")\n",
        "print_matrix(unique_mat)"
      ],
      "execution_count": 125,
      "outputs": [
        {
          "output_type": "stream",
          "text": [
            "---- Unique Event Compression Matrix ----\n",
            "Events filtered by Technique A (row) that are not filtered by Technique B (colm) divided by events filtered by either A or B i.e (A - B) divided by (A ∪ B)\n",
            "\n",
            "Techniques     REDUNDANT_IO   LOG_GC   APPROX   INDUCTION   IBURST   DPRESERVE_FD   DPRESERVE_SD   NODEMERGE   \n",
            "REDUNDANT_IO   0.0            87.62    0.77     90.33       0.0      0.0            0.0            77.81       \n",
            "LOG_GC         9.52           0.0      2.74     56.11       4.14     0.02           0.02           34.63       \n",
            "APPROX         72.35          96.29    0.0      97.09       42.51    1.37           1.35           93.01       \n",
            "INDUCTION      9.67           43.89    2.55     0.0         4.35     0.51           0.09           26.23       \n",
            "IBURST         57.5           94.42    12.31    95.65       0.0      0.19           0.17           89.53       \n",
            "DPRESERVE_FD   78.2           97.02    22.83    97.68       48.8     0.0            0.0            94.39       \n",
            "DPRESERVE_SD   78.53          97.06    23.98    97.7        49.57    1.52           0.0            94.46       \n",
            "NODEMERGE      14.09          65.37    2.84     69.43       4.67     0.3            0.07           0.0         \n"
          ],
          "name": "stdout"
        }
      ]
    },
    {
      "cell_type": "code",
      "metadata": {
        "id": "aEdmbTmI9Tv_",
        "outputId": "6fb2eba3-5fc9-4b5c-e468-0542ef6c6408",
        "colab": {
          "base_uri": "https://localhost:8080/"
        }
      },
      "source": [
        "# Events filtered by Technique A (row) that are not filtered by Technique B (colm) divided by events filtered by A i.e (A - B) divided by (A)\n",
        "\n",
        "unique_mat2 = []\n",
        "unique_mat2.append(list(tn))\n",
        "unique_mat2[0].insert(0, \"Techniques\")\n",
        "for t1 in tn:\n",
        "  temp = []\n",
        "  temp.append(t1)\n",
        "  for t2 in tn:\n",
        "    inter_count = 0\n",
        "    union_count = 0\n",
        "    for i in range(len(df)):\n",
        "      if( (df.loc[i,t1] == 2) and not (df.loc[i,t2] == 2)):\n",
        "        inter_count += 1\n",
        "        union_count += 1\n",
        "      elif (df.loc[i,t1] == 2):\n",
        "        union_count += 1\n",
        "    unique = round((inter_count/union_count) * 100.0, 2)\n",
        "    temp.append(str(unique))\n",
        "  unique_mat2.append(temp)\n",
        "\n",
        "print(\"---- Unique Event Compression Matrix (Second variation) ----\")\n",
        "print(\"Events filtered by Technique A (row) that are not filtered by Technique B (colm) divided by events filtered by A i.e (A - B) divided by (A)\\n\")\n",
        "print_matrix(unique_mat2)"
      ],
      "execution_count": 126,
      "outputs": [
        {
          "output_type": "stream",
          "text": [
            "---- Unique Event Compression Matrix (Second variation) ----\n",
            "Events filtered by Technique A (row) that are not filtered by Technique B (colm) divided by events filtered by A i.e (A - B) divided by (A)\n",
            "\n",
            "Techniques     REDUNDANT_IO   LOG_GC   APPROX   INDUCTION   IBURST   DPRESERVE_FD   DPRESERVE_SD   NODEMERGE   \n",
            "REDUNDANT_IO   0.0            96.84    2.78     100.0       0.0      0.0            0.0            90.57       \n",
            "LOG_GC         76.9           0.0      73.84    100.0       74.29    0.76           0.76           100.0       \n",
            "APPROX         72.91          99.0     0.0      99.63       48.48    1.78           1.78           95.72       \n",
            "INDUCTION      100.0          100.0    87.57    0.0         99.88    21.93          3.72           85.81       \n",
            "IBURST         57.5           98.5     21.41    99.99       0.0      0.37           0.34           93.92       \n",
            "DPRESERVE_FD   78.2           97.04    23.15    98.18       48.89    0.0            0.0            94.67       \n",
            "DPRESERVE_SD   78.53          97.08    24.31    97.79       49.65    1.52           0.0            94.52       \n",
            "NODEMERGE      63.49          100.0    40.54    94.12       44.62    5.27           1.26           0.0         \n"
          ],
          "name": "stdout"
        }
      ]
    },
    {
      "cell_type": "markdown",
      "metadata": {
        "id": "ErnBacY3FdoP"
      },
      "source": [
        "# **_RQ3 :  What is the system call distribution (fileIO, process, network) of the events dropped across various techniques?_**"
      ]
    },
    {
      "cell_type": "code",
      "metadata": {
        "id": "t0G3TKgwVtCG",
        "outputId": "bc7fbaec-143e-48fe-fde4-b4a56ccb6604",
        "colab": {
          "base_uri": "https://localhost:8080/"
        }
      },
      "source": [
        "# http://linasm.sourceforge.net/docs/syscalls/filesystem.php#file\n",
        "# syscall distribution\n",
        "\n",
        "file_syscalls = [3,85,2, 257,303,304,319,133,259,82,264,316,76,77,285,83,258,84,79,80,81,161,78,217,212,86,87,88,263,265,267,266,95,4,5,6,262,90,91,268,92,93,94,260,132,235,261,280,21,269, 188,189,190,191,192,193,194,195,196,197,198,199,16,72,32,33,292,73,0,19,17,295,1,20,18,296,8,40,26,74,75,277,162,306,206,207,208,209,210,23,270,7,271,213,291,233,232,281,253,254,294,255,300,301,221,187,318]\n",
        "process_syscalls = [56,57,58,59,322,60,231,61,247,39,110,186,112,124,109,121,111,105,102,106,104,117,118,119,120,113,114,122,123,107,108,116,115,308,160,97,302,98,314,315,144,145,142,143,203,204,146,147,148,24,141,140,251,252,12,9,11,25,10,28,149,325,151,150,152,27,324,154,126,125,205,211,218,158,134,157,317,101,310,311,312,272]\n",
        "network_syscalls = [41,51,52,53,54,55,49,50,43,288,42,48,45,47,299,44,46,307,170,171,321]\n",
        "\n",
        "# Bates -- Problem with this approach; read/write syscalls are file-based, but can also be used for networking if you pass in a Socket Descriptor instead of a File Descriptor\n",
        "\n",
        "file_c = 0\n",
        "process_c = 0\n",
        "network_c = 0\n",
        "other_c = 0\n",
        "\n",
        "dist_column = []\n",
        "for i in range(len(df)):\n",
        "    syscall_number = df.loc[i,\"NUMBER\"]\n",
        "    if (syscall_number in file_syscalls):\n",
        "      file_c +=1\n",
        "      dist_column.append(\"file\") \n",
        "    elif (syscall_number in process_syscalls):\n",
        "      process_c += 1\n",
        "      dist_column.append(\"process\")\n",
        "    elif (syscall_number in network_syscalls):\n",
        "      network_c += 1\n",
        "      dist_column.append(\"network\")\n",
        "    else:\n",
        "      other_c += 1\n",
        "      dist_column.append(\"other\")\n",
        "\n",
        "\n",
        "df[\"syscall_type\"] = dist_column\n",
        "\n",
        "print(\"Total syscalls :\", len(df))\n",
        "print(\"File based system calls: \", file_c)\n",
        "print(\"Process based system calls: \", process_c)\n",
        "print(\"Network based system calls: \", network_c)\n",
        "print(\"Other system calls: \", other_c)\n"
      ],
      "execution_count": 80,
      "outputs": [
        {
          "output_type": "stream",
          "text": [
            "Total syscalls : 249489\n",
            "File based system calls:  139934\n",
            "Process based system calls:  1494\n",
            "Network based system calls:  108061\n",
            "Other system calls:  0\n"
          ],
          "name": "stdout"
        }
      ]
    },
    {
      "cell_type": "code",
      "metadata": {
        "id": "ZnYwWpRAmBbf"
      },
      "source": [
        "n_count = [0] * 8\n",
        "f_count = [0] * 8\n",
        "p_count = [0] * 8\n",
        "\n",
        "for i in range(len(df)):\n",
        "    syscall_type = df.loc[i,\"syscall_type\"]\n",
        "    for ind,t in enumerate(tn):\n",
        "      if(df.loc[i,t] == 2):\n",
        "        if(syscall_type == \"file\"):\n",
        "          f_count[ind] += 1\n",
        "        if(syscall_type == \"process\"):\n",
        "          p_count[ind] += 1\n",
        "        if(syscall_type == \"network\"):\n",
        "          n_count[ind] += 1\n",
        "      \n",
        "for i in range(len(p_count)):\n",
        "  p_count[i] += (n_count[i] + f_count[i])\n",
        "\n",
        "for i in range(len(n_count)):\n",
        "  n_count[i] += f_count[i]"
      ],
      "execution_count": 82,
      "outputs": []
    },
    {
      "cell_type": "code",
      "metadata": {
        "id": "rxaqjEFnuX59",
        "outputId": "994287c6-a32a-46d3-e6b6-98354b80d06d",
        "colab": {
          "base_uri": "https://localhost:8080/",
          "height": 739
        }
      },
      "source": [
        "from matplotlib import pyplot as plt\n",
        "\n",
        "#Set general plot properties\n",
        "# sns.set_style(\"whitegrid\")\n",
        "sns.set_context({\"figure.figsize\": (13,12)})\n",
        "\n",
        "#Plots\n",
        "sns.barplot(x = tn, y = p_count, color = \"#ffa600\")\n",
        "sns.barplot(x = tn, y = n_count, color = \"#bc5090\")\n",
        "bottom_plot = sns.barplot(x = tn, y = f_count, color = \"#003f5c\")\n",
        "\n",
        "redbar = plt.Rectangle((0,0),1,1,fc=\"#ffa600\")\n",
        "bluebar = plt.Rectangle((0,0),1,1,fc=\"#bc5090\",  edgecolor = 'none')\n",
        "greenbar = plt.Rectangle((0,0),1,1,fc=\"#003f5c\",  edgecolor = 'none')\n",
        "l = plt.legend([redbar, bluebar, greenbar], ['process', 'network', 'file'], loc=1, ncol = 3, prop={'size':16})\n",
        "l.draw_frame(False)\n",
        "\n",
        "#Optional code - Make plot look nicer\n",
        "# sns.despine(left=True)\n",
        "bottom_plot.set_ylabel(\"Drop Count\")\n",
        "bottom_plot.set_xlabel(\"Techniques\")\n",
        "\n",
        "# Set fonts to consistent 16pt size\n",
        "# for item in ([bottom_plot.xaxis.label, bottom_plot.yaxis.label] +\n",
        "#              bottom_plot.get_xticklabels() + bottom_plot.get_yticklabels()):\n",
        "#     item.set_fontsize(12)"
      ],
      "execution_count": 128,
      "outputs": [
        {
          "output_type": "execute_result",
          "data": {
            "text/plain": [
              "Text(0.5, 0, 'Techniques')"
            ]
          },
          "metadata": {
            "tags": []
          },
          "execution_count": 128
        },
        {
          "output_type": "display_data",
          "data": {
            "image/png": "[encoded data removed]",
            "text/plain": [
              "<Figure size 936x864 with 1 Axes>"
            ]
          },
          "metadata": {
            "tags": []
          }
        }
      ]
    },
    {
      "cell_type": "markdown",
      "metadata": {
        "id": "FfQEv0G7Fo7R"
      },
      "source": [
        "# **_RQ4 : Which set of techniques, both intuitively and experimentally, when used together provide us the maximum reduction?_**"
      ]
    },
    {
      "cell_type": "code",
      "metadata": {
        "id": "7cyA8ETjQ9dF"
      },
      "source": [
        "def combinationUtil(arr, n, r,index, data, i,sub_array):  \n",
        "  if(index == r):\n",
        "    temp = [] \n",
        "    for j in range(r):\n",
        "      temp.append(data[j])\n",
        "    sub_array.append(temp)\n",
        "    return\n",
        "  if(i >= n): \n",
        "    return\n",
        "  data[index] = arr[i] \n",
        "  combinationUtil(arr, n, r,  index + 1, data, i + 1, sub_array) \n",
        "  combinationUtil(arr, n, r, index,data, i + 1, sub_array) \n",
        "\n",
        "def getCombinations(arr, n, r):  \n",
        "  data = list(range(r))\n",
        "  sub_array = []\n",
        "  combinationUtil(arr, n, r,  0, data, 0,sub_array)\n",
        "  return sub_array\n",
        "\n"
      ],
      "execution_count": 120,
      "outputs": []
    },
    {
      "cell_type": "code",
      "metadata": {
        "id": "QMwhoD2-YzP9"
      },
      "source": [
        "subset2_array = getCombinations(tn, len(tn) , 2)\n",
        "subset3_array = getCombinations(tn, len(tn) , 3)"
      ],
      "execution_count": 121,
      "outputs": []
    },
    {
      "cell_type": "code",
      "metadata": {
        "id": "asPM1AElbBq7",
        "outputId": "1fb5bef7-e38c-4c58-98c4-a6f163992c99",
        "colab": {
          "base_uri": "https://localhost:8080/"
        }
      },
      "source": [
        "subset2_count = []\n",
        "\n",
        "for techniques in subset2_array:\n",
        "  count = 0\n",
        "  for i in range(len(df)):\n",
        "    for t in techniques:\n",
        "      if(df.loc[i,t] == 2):\n",
        "        count+=1\n",
        "        break\n",
        "  subset2_count.append((techniques, count))\n",
        "\n",
        "subset2_count.sort(reverse= True, key = lambda x: x[1])\n",
        "\n",
        "subset2_count"
      ],
      "execution_count": 122,
      "outputs": [
        {
          "output_type": "execute_result",
          "data": {
            "text/plain": [
              "[(['APPROX', 'DPRESERVE_SD'], 227463),\n",
              " (['IBURST', 'DPRESERVE_SD'], 224778),\n",
              " (['INDUCTION', 'DPRESERVE_SD'], 224582),\n",
              " (['DPRESERVE_SD', 'NODEMERGE'], 224547),\n",
              " (['LOG_GC', 'DPRESERVE_SD'], 224440),\n",
              " (['REDUNDANT_IO', 'DPRESERVE_SD'], 224390),\n",
              " (['DPRESERVE_FD', 'DPRESERVE_SD'], 224390),\n",
              " (['APPROX', 'DPRESERVE_FD'], 224065),\n",
              " (['INDUCTION', 'DPRESERVE_FD'], 222120),\n",
              " (['DPRESERVE_FD', 'NODEMERGE'], 221645),\n",
              " (['IBURST', 'DPRESERVE_FD'], 221412),\n",
              " (['LOG_GC', 'DPRESERVE_FD'], 221039),\n",
              " (['REDUNDANT_IO', 'DPRESERVE_FD'], 220989),\n",
              " (['APPROX', 'IBURST'], 197181),\n",
              " (['APPROX', 'NODEMERGE'], 177952),\n",
              " (['LOG_GC', 'APPROX'], 177776),\n",
              " (['APPROX', 'INDUCTION'], 177423),\n",
              " (['REDUNDANT_IO', 'APPROX'], 174246),\n",
              " (['IBURST', 'NODEMERGE'], 118915),\n",
              " (['INDUCTION', 'IBURST'], 118513),\n",
              " (['LOG_GC', 'IBURST'], 118261),\n",
              " (['REDUNDANT_IO', 'IBURST'], 113362),\n",
              " (['REDUNDANT_IO', 'NODEMERGE'], 56079),\n",
              " (['REDUNDANT_IO', 'INDUCTION'], 53335),\n",
              " (['REDUNDANT_IO', 'LOG_GC'], 53249),\n",
              " (['LOG_GC', 'NODEMERGE'], 19039),\n",
              " (['INDUCTION', 'NODEMERGE'], 16870),\n",
              " (['LOG_GC', 'INDUCTION'], 11751)]"
            ]
          },
          "metadata": {
            "tags": []
          },
          "execution_count": 122
        }
      ]
    },
    {
      "cell_type": "code",
      "metadata": {
        "id": "c-W5YM3Bcwpq",
        "outputId": "faea1938-977d-43b4-d5fe-5af5027ddee0",
        "colab": {
          "base_uri": "https://localhost:8080/"
        }
      },
      "source": [
        "subset3_count = []\n",
        "\n",
        "for techniques in subset3_array:\n",
        "  count = 0\n",
        "  for i in range(len(df)):\n",
        "    for t in techniques:\n",
        "      if(df.loc[i,t] == 2):\n",
        "        count+=1\n",
        "        break\n",
        "  subset3_count.append((techniques, count))\n",
        "\n",
        "subset3_count.sort(reverse= True, key = lambda x: x[1])\n",
        "subset3_count"
      ],
      "execution_count": 123,
      "outputs": [
        {
          "output_type": "execute_result",
          "data": {
            "text/plain": [
              "[(['APPROX', 'IBURST', 'DPRESERVE_SD'], 227786),\n",
              " (['APPROX', 'INDUCTION', 'DPRESERVE_SD'], 227641),\n",
              " (['APPROX', 'DPRESERVE_SD', 'NODEMERGE'], 227603),\n",
              " (['LOG_GC', 'APPROX', 'DPRESERVE_SD'], 227481),\n",
              " (['REDUNDANT_IO', 'APPROX', 'DPRESERVE_SD'], 227463),\n",
              " (['APPROX', 'DPRESERVE_FD', 'DPRESERVE_SD'], 227463),\n",
              " (['APPROX', 'INDUCTION', 'DPRESERVE_FD'], 225182),\n",
              " (['INDUCTION', 'IBURST', 'DPRESERVE_SD'], 224970),\n",
              " (['IBURST', 'DPRESERVE_SD', 'NODEMERGE'], 224935),\n",
              " (['LOG_GC', 'IBURST', 'DPRESERVE_SD'], 224790),\n",
              " (['REDUNDANT_IO', 'IBURST', 'DPRESERVE_SD'], 224778),\n",
              " (['IBURST', 'DPRESERVE_FD', 'DPRESERVE_SD'], 224778),\n",
              " (['INDUCTION', 'DPRESERVE_SD', 'NODEMERGE'], 224739),\n",
              " (['APPROX', 'DPRESERVE_FD', 'NODEMERGE'], 224704),\n",
              " (['LOG_GC', 'INDUCTION', 'DPRESERVE_SD'], 224632),\n",
              " (['LOG_GC', 'DPRESERVE_SD', 'NODEMERGE'], 224597),\n",
              " (['REDUNDANT_IO', 'INDUCTION', 'DPRESERVE_SD'], 224582),\n",
              " (['INDUCTION', 'DPRESERVE_FD', 'DPRESERVE_SD'], 224582),\n",
              " (['REDUNDANT_IO', 'DPRESERVE_SD', 'NODEMERGE'], 224547),\n",
              " (['DPRESERVE_FD', 'DPRESERVE_SD', 'NODEMERGE'], 224547),\n",
              " (['REDUNDANT_IO', 'LOG_GC', 'DPRESERVE_SD'], 224440),\n",
              " (['LOG_GC', 'DPRESERVE_FD', 'DPRESERVE_SD'], 224440),\n",
              " (['APPROX', 'IBURST', 'DPRESERVE_FD'], 224421),\n",
              " (['REDUNDANT_IO', 'DPRESERVE_FD', 'DPRESERVE_SD'], 224390),\n",
              " (['LOG_GC', 'APPROX', 'DPRESERVE_FD'], 224083),\n",
              " (['REDUNDANT_IO', 'APPROX', 'DPRESERVE_FD'], 224065),\n",
              " (['INDUCTION', 'DPRESERVE_FD', 'NODEMERGE'], 222616),\n",
              " (['INDUCTION', 'IBURST', 'DPRESERVE_FD'], 222542),\n",
              " (['LOG_GC', 'INDUCTION', 'DPRESERVE_FD'], 222170),\n",
              " (['REDUNDANT_IO', 'INDUCTION', 'DPRESERVE_FD'], 222120),\n",
              " (['IBURST', 'DPRESERVE_FD', 'NODEMERGE'], 222068),\n",
              " (['LOG_GC', 'DPRESERVE_FD', 'NODEMERGE'], 221695),\n",
              " (['REDUNDANT_IO', 'DPRESERVE_FD', 'NODEMERGE'], 221645),\n",
              " (['LOG_GC', 'IBURST', 'DPRESERVE_FD'], 221424),\n",
              " (['REDUNDANT_IO', 'IBURST', 'DPRESERVE_FD'], 221412),\n",
              " (['REDUNDANT_IO', 'LOG_GC', 'DPRESERVE_FD'], 221039),\n",
              " (['LOG_GC', 'APPROX', 'IBURST'], 202021),\n",
              " (['APPROX', 'INDUCTION', 'IBURST'], 201694),\n",
              " (['APPROX', 'IBURST', 'NODEMERGE'], 200510),\n",
              " (['REDUNDANT_IO', 'APPROX', 'IBURST'], 197181),\n",
              " (['LOG_GC', 'APPROX', 'NODEMERGE'], 182821),\n",
              " (['LOG_GC', 'APPROX', 'INDUCTION'], 182292),\n",
              " (['APPROX', 'INDUCTION', 'NODEMERGE'], 181986),\n",
              " (['REDUNDANT_IO', 'APPROX', 'NODEMERGE'], 179265),\n",
              " (['REDUNDANT_IO', 'LOG_GC', 'APPROX'], 179115),\n",
              " (['REDUNDANT_IO', 'APPROX', 'INDUCTION'], 178762),\n",
              " (['LOG_GC', 'IBURST', 'NODEMERGE'], 123814),\n",
              " (['LOG_GC', 'INDUCTION', 'IBURST'], 123412),\n",
              " (['INDUCTION', 'IBURST', 'NODEMERGE'], 123334),\n",
              " (['REDUNDANT_IO', 'IBURST', 'NODEMERGE'], 118915),\n",
              " (['REDUNDANT_IO', 'INDUCTION', 'IBURST'], 118513),\n",
              " (['REDUNDANT_IO', 'LOG_GC', 'IBURST'], 118261),\n",
              " (['REDUNDANT_IO', 'LOG_GC', 'NODEMERGE'], 61150),\n",
              " (['REDUNDANT_IO', 'INDUCTION', 'NODEMERGE'], 60504),\n",
              " (['REDUNDANT_IO', 'LOG_GC', 'INDUCTION'], 58406),\n",
              " (['LOG_GC', 'INDUCTION', 'NODEMERGE'], 23464)]"
            ]
          },
          "metadata": {
            "tags": []
          },
          "execution_count": 123
        }
      ]
    },
    {
      "cell_type": "code",
      "metadata": {
        "id": "yYoUxo0clqW4",
        "outputId": "c04c3bfb-f44c-4905-a5d8-caac5477043f",
        "colab": {
          "base_uri": "https://localhost:8080/"
        }
      },
      "source": [
        "##  Algorithm : Pick the thing that offers the most compression, then with the remaining events, take the thing that offers the next compression\n",
        "\n",
        "visited = {}\n",
        "for i in range(len(df)):\n",
        "  id = df.loc[i,\"ID\"]\n",
        "  visited[id] = 0\n",
        "\n",
        "\n",
        "def find_max(data, techniques):\n",
        "  # print(techniques)\n",
        "  num_dict = {}\n",
        "  for t in techniques:\n",
        "    num_dict[t] = 0\n",
        "    for i in range(len(data)):\n",
        "      if ((df.loc[i,t] == 2) and (visited[(df.loc[i,\"ID\"])] == 0)):\n",
        "        num_dict[t] += 1\n",
        "  # print(num_dict)\n",
        "  max_value = -1\n",
        "  max_key = \"\"\n",
        "  for key, value in num_dict.items():\n",
        "    if(value > max_value):\n",
        "      max_value = value\n",
        "      max_key = key\n",
        "  \n",
        "  for i in range(len(data)):\n",
        "    if (df.loc[i,max_key] == 2):\n",
        "      visited[(df.loc[i,\"ID\"])] = 1\n",
        "  \n",
        "  return max_key, max_value\n",
        "\n",
        "tech = [x for x in tn]\n",
        "# tech.remove(\"DPRESERVE_SD\")\n",
        "# tech.remove(\"DPRESERVE_FD\")\n",
        "count = 0\n",
        "while(len(tech)):\n",
        "  max_tech,number = find_max(df,tech)\n",
        "  if(number == 0):\n",
        "    print(\"All other techniques further remove no items\")\n",
        "    break\n",
        "  tech.remove(max_tech)\n",
        "  if(count == 0):\n",
        "    print(\"Technique \" + max_tech + \" initially removed \" + str(number) + \" entries\")\n",
        "  else:\n",
        "    print(\"Technique \" + max_tech + \" further removed \" + str(number) + \" from the remaining entries\")\n",
        "  count+=1\n",
        "\n",
        "\n"
      ],
      "execution_count": 130,
      "outputs": [
        {
          "output_type": "stream",
          "text": [
            "Technique DPRESERVE_SD initially removed 224390 entries\n",
            "Technique APPROX further removed 3073 from the remaining entries\n",
            "Technique IBURST further removed 323 from the remaining entries\n",
            "Technique INDUCTION further removed 178 from the remaining entries\n",
            "Technique NODEMERGE further removed 140 from the remaining entries\n",
            "Technique LOG_GC further removed 4 from the remaining entries\n",
            "All other techniques further remove no items\n"
          ],
          "name": "stdout"
        }
      ]
    }
  ]
}